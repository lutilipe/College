{
  "cells": [
    {
      "cell_type": "markdown",
      "metadata": {
        "id": "HWsT6LaQ1yny"
      },
      "source": [
        "# Fundamentos de Inteligência Artificial"
      ]
    },
    {
      "cell_type": "markdown",
      "metadata": {
        "id": "D_zAJMbc1yn3"
      },
      "source": [
        "## Estudo Dirigido: Grafos e Caminhos"
      ]
    },
    {
      "cell_type": "markdown",
      "metadata": {
        "id": "i0N5m_Kt1yn5"
      },
      "source": [
        "Professores: João Pedro Campos e Cristiano Leite de Castro"
      ]
    },
    {
      "cell_type": "markdown",
      "metadata": {
        "id": "tNy13QTH1yn5"
      },
      "source": [
        "Nosso objetivo é estudar, na prática, alguns algoritmos utilizados para explorar grafos e encontrar caminhos. Você deverá completar o código nas partes destinadas a isso, bem como responder às perguntas distribuídas ao longo do estudo.\n",
        "\n",
        "IMPORTANTE: este estudo deve ser entregue, de forma *individual*, até dia 15/04."
      ]
    },
    {
      "cell_type": "markdown",
      "metadata": {
        "id": "Ag6rmfWG1yn6"
      },
      "source": [
        "Vamos começar criando as classes que definirão nosso objeto grafo. Analise e execute o código abaixo. Nesta etapa, você não precisará programar nada."
      ]
    },
    {
      "cell_type": "code",
      "execution_count": 75,
      "metadata": {
        "id": "9zj2AKok1yn7"
      },
      "outputs": [],
      "source": [
        "class Edge:\n",
        "    def __init__(self, u, v, w):\n",
        "        self.u = u  # starting vertex\n",
        "        self.v = v  # ending vertex\n",
        "        self.w = w  # weight of the edge\n",
        "\n",
        "    def __lt__(self, other):\n",
        "        # This makes the edges comparable by weight for sorting\n",
        "        return self.w < other.w\n",
        "\n",
        "    def __str__(self):\n",
        "        # String representation of an edge\n",
        "        return f\"{self.u} -> {self.v} ({self.w})\"\n",
        "\n",
        "    def __repr__(self):\n",
        "        return self.__str__()\n",
        "\n",
        "class Graph:\n",
        "    def __init__(self):\n",
        "        # Initialize a graph with no predefined number of vertices\n",
        "        self.graph = {}  # key: vertex, value: list of edges\n",
        "\n",
        "    def add_edge(self, u, v, w):\n",
        "        # Add an edge from u to v with weight w\n",
        "        if u not in self.graph:\n",
        "            self.graph[u] = []\n",
        "        if v not in self.graph:\n",
        "            self.graph[v] = []\n",
        "\n",
        "        self.graph[u].append(Edge(u, v, w))\n",
        "\n",
        "    def add_undirected_edge(self, u, v, w):\n",
        "        # Add an undirected edge between u and v with weight w\n",
        "        self.add_edge(u, v, w)\n",
        "        self.add_edge(v, u, w)\n",
        "\n",
        "    def __str__(self):\n",
        "        # String representation of the entire graph\n",
        "        result = []\n",
        "        for u in self.graph:\n",
        "            for edge in self.graph[u]:\n",
        "                result.append(str(edge))\n",
        "        return \"\\n\".join(result)\n",
        "\n",
        "    def get_edges(self):\n",
        "        # Returns all edges in the graph\n",
        "        edges = []\n",
        "        for u in self.graph:\n",
        "            for edge in self.graph[u]:\n",
        "                edges.append(edge)\n",
        "        return edges\n",
        "\n",
        "    def out_degree(self, u):\n",
        "        # Return the out-degree of vertex u\n",
        "        if u in self.graph:\n",
        "            return len(self.graph[u])\n",
        "        else:\n",
        "            raise ValueError(f\"Vertex {u} not found in the graph.\")\n",
        "\n",
        "    def in_degree(self, v):\n",
        "        # Return the in-degree of vertex v\n",
        "        in_deg = 0\n",
        "        for u in self.graph:\n",
        "            for edge in self.graph[u]:\n",
        "                if edge.v == v:\n",
        "                    in_deg += 1\n",
        "        return in_deg\n",
        "\n",
        "    def get_neighbors(self, u):\n",
        "        # Returns the neighbors of vertex u\n",
        "        if u in self.graph:\n",
        "            return [edge.v for edge in self.graph[u]]\n",
        "        else:\n",
        "            raise ValueError(f\"Vertex {u} not found in the graph.\")"
      ]
    },
    {
      "cell_type": "markdown",
      "metadata": {
        "id": "PuReblK01yn9"
      },
      "source": [
        "1. Qual maneira foi escolhida para representar o grafo neste código? Quais as vantagens e desvantagens dela, comparada com outras formas populares de representação de grafos?\n",
        "\n",
        "**Resposta:** Foi utilizada a lista de adjacencia. Esse metodo usa menos memoria, facil de deletar e adicionar novos nos e é rápido para iterar sobre os nós. A disvantagem é de checar a existência de uma aresta, na qual deve-se iterar sobre a lista de conexões entre o nó de origem e o de destino.\n",
        "\n",
        "\n",
        "2. O código consegue representar grafos direcionados, não direcionados, ou ambos? Por quê?\n",
        "\n",
        "**Resposta:** Ambos, pois existem os métodos \"add_undirected_edge\", que adiciona uma aresta em ambos os nós, e \"add_edge\", que adiciona uma aresta de u para v, mas não o contrário."
      ]
    },
    {
      "cell_type": "markdown",
      "metadata": {
        "id": "BheYd0h-1yn-"
      },
      "source": [
        "## Problema de Caminhos"
      ]
    },
    {
      "cell_type": "markdown",
      "metadata": {
        "id": "ECLpornu1yn-"
      },
      "source": [
        "![image.png](attachment:image.png)"
      ]
    },
    {
      "cell_type": "markdown",
      "metadata": {
        "id": "h1OvoX9p1yn_"
      },
      "source": [
        "Considere o grafo acima, representando conexões entre algumas cidades da Europa. Crie um objeto da classe Graph(), e adicione as arestas necessárias. Obs: repare a função \"add_edge\", e note que ela pede que seja passado um peso da aresta. Por enquanto, vamos considerar que o grafo é não ponderado, e que todas as arestas têm peso igual a 1. Além disso, note que o grafo é direcionado, portanto a direção da aresta importa, e deve ser levada em conta na ordem dos argumentos da função \"add_edge\"."
      ]
    },
    {
      "cell_type": "code",
      "execution_count": 76,
      "metadata": {
        "id": "2Nu48ylK1yoA"
      },
      "outputs": [],
      "source": [
        "Europe = Graph()\n",
        "Europe.add_edge(\"Paris\", \"Hambourg\", 1)\n",
        "Europe.add_edge(\"Paris\", \"Amsterdam\", 1)\n",
        "Europe.add_edge(\"Paris\", \"Londres\", 1)\n",
        "Europe.add_edge(\"Amsterdam\", \"Hambourg\", 1)\n",
        "Europe.add_edge(\"Hambourg\", \"Berlim\", 1)\n",
        "Europe.add_edge(\"Hambourg\", \"Stockholm\", 1)\n",
        "Europe.add_edge(\"Berlim\", \"Stockholm\", 1)\n",
        "Europe.add_edge(\"Berlim\", \"Oslo\", 1)\n",
        "Europe.add_edge(\"Berlim\", \"Amsterdam\", 1)\n",
        "Europe.add_edge(\"Stockholm\", \"Rana\", 1)\n",
        "Europe.add_edge(\"Stockholm\", \"Oslo\", 1)\n",
        "Europe.add_edge(\"Londres\", \"Edimbourg\", 1)\n",
        "Europe.add_edge(\"Amsterdam\", \"Londres\", 1)\n",
        "Europe.add_edge(\"Edimbourg\", \"Amsterdam\", 1)\n",
        "Europe.add_edge(\"Edimbourg\", \"Rana\", 1)\n",
        "Europe.add_edge(\"Edimbourg\", \"Oslo\", 1)\n",
        "Europe.add_edge(\"Amsterdam\", \"Oslo\", 1)\n",
        "Europe.add_edge(\"Oslo\", \"Rana\", 1)\n",
        "# adicione as demais arestas do grafo"
      ]
    },
    {
      "cell_type": "markdown",
      "metadata": {
        "id": "AiBfvOmL1yoB"
      },
      "source": [
        "Execute a função \"get_neighbors\", passando como argumento o nó Paris. Verifique se os vizinhos retornados são de fato os vizinhos esperados, de acordo com a figura."
      ]
    },
    {
      "cell_type": "code",
      "execution_count": 77,
      "metadata": {
        "colab": {
          "base_uri": "https://localhost:8080/"
        },
        "id": "2mjzwuej1yoB",
        "outputId": "45edaa86-0af7-47a1-bec6-b5cb685506ab"
      },
      "outputs": [
        {
          "output_type": "execute_result",
          "data": {
            "text/plain": [
              "['Hambourg', 'Londres', 'Oslo']"
            ]
          },
          "metadata": {},
          "execution_count": 77
        }
      ],
      "source": [
        "Europe.get_neighbors(\"Amsterdam\")"
      ]
    },
    {
      "cell_type": "markdown",
      "metadata": {
        "id": "kI5U5DIM1yoC"
      },
      "source": [
        "Agora, vamos implementar um algoritmo BFS (Breadth First Search) para explorar esse grafo. Vamos considerar que o nó de partida é a cidade de Paris."
      ]
    },
    {
      "cell_type": "code",
      "execution_count": 78,
      "metadata": {
        "colab": {
          "base_uri": "https://localhost:8080/"
        },
        "id": "BpJPn1GW1yoC",
        "outputId": "55cf1c51-e1e0-48cd-fe60-d57b5899841d"
      },
      "outputs": [
        {
          "output_type": "stream",
          "name": "stdout",
          "text": [
            "Menores distâncias (número de arestas): {'Paris': 0, 'Hambourg': 1, 'Amsterdam': 1, 'Londres': 1, 'Berlim': 2, 'Stockholm': 2, 'Oslo': 2, 'Rana': 3, 'Edimbourg': 2}\n",
            "Caminho para Paris: ['Paris']\n",
            "Caminho para Hambourg: ['Paris', 'Hambourg']\n",
            "Caminho para Amsterdam: ['Paris', 'Amsterdam']\n",
            "Caminho para Londres: ['Paris', 'Londres']\n",
            "Caminho para Berlim: ['Paris', 'Hambourg', 'Berlim']\n",
            "Caminho para Stockholm: ['Paris', 'Hambourg', 'Stockholm']\n",
            "Caminho para Oslo: ['Paris', 'Amsterdam', 'Oslo']\n",
            "Caminho para Rana: ['Paris', 'Hambourg', 'Stockholm', 'Rana']\n",
            "Caminho para Edimbourg: ['Paris', 'Londres', 'Edimbourg']\n"
          ]
        }
      ],
      "source": [
        "from collections import deque\n",
        "\n",
        "def bfs(graph, start):\n",
        "    \"\"\"Realiza a busca em largura (BFS) no grafo a partir de start.\"\"\"\n",
        "    dist = {vertex: float(\"inf\") for vertex in graph.graph}  # Inicializa as distâncias como infinito\n",
        "    predecessor = {vertex: None for vertex in graph.graph}  # Predecessor para reconstrução do caminho\n",
        "    dist[start] = 0  # Distância do nó inicial é 0\n",
        "\n",
        "    queue = deque([start])  # Fila para a busca em largura\n",
        "\n",
        "    while queue:\n",
        "        node = queue.popleft()\n",
        "        for child in Europe.get_neighbors(node):\n",
        "          l = dist[node] + 1;\n",
        "          if dist[child] > l:\n",
        "            dist[child] = l;\n",
        "            queue.append(child);\n",
        "            predecessor[child] = node\n",
        "\n",
        "\n",
        "    return dist, predecessor\n",
        "\n",
        "def reconstruct_path(predecessor, start, end):\n",
        "    \"\"\"Reconstrói o caminho do vértice start até end usando o dicionário predecessor.\"\"\"\n",
        "    path = []\n",
        "    current = end\n",
        "    while current is not None:\n",
        "        path.append(current)\n",
        "        current = predecessor[current]\n",
        "    path.reverse()  # Inverte para obter na ordem correta\n",
        "    return path if path[0] == start else []  # Retorna caminho válido ou vazio\n",
        "\n",
        "\n",
        "dist, predecessor = bfs(Europe, \"Paris\")\n",
        "\n",
        "# Exibir as distâncias mínimas\n",
        "print(\"Menores distâncias (número de arestas):\", dist)\n",
        "\n",
        "# Exibir os caminhos para cada nó\n",
        "for node in dist:\n",
        "    print(f\"Caminho para {node}: {reconstruct_path(predecessor, 'Paris', node)}\")\n"
      ]
    },
    {
      "cell_type": "markdown",
      "metadata": {
        "id": "ceHWMQeJ1yoE"
      },
      "source": [
        "3. O que aconteceria se em vez de uma fila fosse utilizada uma estrutura de pilha?\n",
        "\n",
        "**Resposta:** estariamos executando uma DFS ao invés de uma BFS.\n",
        "\n",
        "4. Foi utilizada a estrutura 'deque', do pacote 'collections', para fazer a fila. Uma fila também poderia ser implementada utilizando a lista ('queue = []') nativa do python. Apesar de funcionar corretamente, tal abordagem não é recomendada. Pesquise e explique porquê.\n",
        "\n",
        "**Resposta:** Isso ocorre, pois para pegar o primeiro elemento inserido na fila, teriamos que remover ele da primeira posição e deslocar todos os elementos subsequentes uma posição para trás na memória, tornando esse processom O(n) ao invés de O(1).\n",
        "\n",
        "5. Qual a complexidade algorítmica do método BFS? Por quê?\n",
        "\n",
        "**Resposta:**: O(E+V), caso seja utilizado lista de adjacênciapara representar o grafo, em que E = número de arestas e V o número de vértices. Isso ocorre, pois ao fazer a busca em largura, temos que passar por todos os vértices e por todas arestas ligadas a esse vértice."
      ]
    },
    {
      "cell_type": "markdown",
      "metadata": {
        "id": "o9HJ0K7d1yoE"
      },
      "source": [
        "## Componentes Conectados"
      ]
    },
    {
      "cell_type": "markdown",
      "metadata": {
        "id": "YSQdCmi11yoE"
      },
      "source": [
        "Imagine agora a situação seguinte: por algum motivo, algumas das conexões entre as cidades foram perdidas. Isso fez com que fossem criadas \"ilhas\" de cidades conectadas entre si, mas separadas das demais. O grafo resultante foi o seguinte:"
      ]
    },
    {
      "cell_type": "markdown",
      "metadata": {
        "id": "LqjDIWJj1yoE"
      },
      "source": [
        "![image.png](attachment:image.png)"
      ]
    },
    {
      "cell_type": "markdown",
      "metadata": {
        "id": "ZrZ4Kzhz1yoE"
      },
      "source": [
        "Crie um grafo novo para representar essa situação. Em seguida, modifique o código BFS para contar quantas \"ilhas\" foram criadas, ou seja, quantos componentes conectados entre si existem. Nesse caso, existem 3."
      ]
    },
    {
      "cell_type": "code",
      "execution_count": 79,
      "metadata": {
        "id": "K0ZbfUF11yoE"
      },
      "outputs": [],
      "source": [
        "disconnected_europe = Graph()\n",
        "# AQUI, USE A FUNÇÃO add_undirected_edge\n",
        "disconnected_europe.add_undirected_edge(\"Paris\", \"Hambourg\", 1)\n",
        "disconnected_europe.add_undirected_edge(\"Paris\", \"Amsterdam\", 1)\n",
        "disconnected_europe.add_undirected_edge(\"Londres\", \"Edimbourg\", 1)\n",
        "disconnected_europe.add_undirected_edge(\"Berlim\", \"Oslo\", 1)\n",
        "disconnected_europe.add_undirected_edge(\"Oslo\", \"Rana\", 1)\n",
        "disconnected_europe.add_undirected_edge(\"Berlim\", \"Stockholm\", 1)\n",
        "disconnected_europe.add_undirected_edge(\"Oslo\", \"Stockholm\", 1)\n",
        "# adicione arestas\n"
      ]
    },
    {
      "cell_type": "code",
      "execution_count": 80,
      "metadata": {
        "colab": {
          "base_uri": "https://localhost:8080/"
        },
        "id": "YZKnm4nC1yoE",
        "outputId": "4c1e338e-6706-49dc-a3bc-a987f1877fd9"
      },
      "outputs": [
        {
          "output_type": "stream",
          "name": "stdout",
          "text": [
            "Número de componentes conectados: 3\n"
          ]
        }
      ],
      "source": [
        "# Use BFS para contar o número de componentes conectados\n",
        "from sympy import comp\n",
        "\n",
        "\n",
        "def count_connected_components(graph):\n",
        "    \"\"\"Conta o número de componentes conectados usando BFS.\"\"\"\n",
        "    visited = set()  # Conjunto de nós visitados\n",
        "    components = 0  # Contador de componentes conectados\n",
        "    # seu código aqui\n",
        "    edges = disconnected_europe.get_edges()\n",
        "\n",
        "    for edge in edges:\n",
        "      if not edge.u in visited:\n",
        "        queue = deque([edge.u])  # Fila para a busca em largura\n",
        "        visited.add(edge.u)\n",
        "        components+=1\n",
        "\n",
        "        while queue:\n",
        "            node = queue.popleft()\n",
        "            for child in disconnected_europe.get_neighbors(node):\n",
        "              if not child in visited:\n",
        "                visited.add(child)\n",
        "                queue.append(child)\n",
        "\n",
        "\n",
        "    return components\n",
        "\n",
        "componentes = count_connected_components(disconnected_europe)\n",
        "print(\"Número de componentes conectados:\", componentes)"
      ]
    },
    {
      "cell_type": "markdown",
      "metadata": {
        "id": "yra9SNfc1yoF"
      },
      "source": [
        "## Caminho ótimo em grafo ponderado"
      ]
    },
    {
      "cell_type": "markdown",
      "metadata": {
        "id": "JDbAkiq31yoF"
      },
      "source": [
        "Vamos, agora, imaginar que existem custos associados aos diferentes trajetos neste grafo. A figura baixo indica o custo de cada trecho. Crie outro objeto da classe Graph(), adicionando as mesmas arestas de antes, mas desta vez introduzindo também os custos correspondentes."
      ]
    },
    {
      "cell_type": "markdown",
      "metadata": {
        "id": "x7lhmuYQ1yoG"
      },
      "source": [
        "![image.png](attachment:image.png)"
      ]
    },
    {
      "cell_type": "code",
      "execution_count": 81,
      "metadata": {
        "id": "P22yFWi21yoG"
      },
      "outputs": [],
      "source": [
        "# Complete o grafo ponderado\n",
        "Europe = Graph()\n",
        "Europe.add_edge(\"Paris\", \"Hambourg\", 7)\n",
        "Europe.add_edge(\"Paris\", \"Amsterdam\", 3)\n",
        "Europe.add_edge(\"Paris\", \"Londres\", 4)\n",
        "Europe.add_edge(\"Amsterdam\", \"Hambourg\", 2)\n",
        "Europe.add_edge(\"Hambourg\", \"Berlim\", 1)\n",
        "Europe.add_edge(\"Hambourg\", \"Stockholm\", 1)\n",
        "Europe.add_edge(\"Berlim\", \"Stockholm\", 1)\n",
        "Europe.add_edge(\"Berlim\", \"Oslo\", 3)\n",
        "Europe.add_edge(\"Berlim\", \"Amsterdam\", 2)\n",
        "Europe.add_edge(\"Stockholm\", \"Rana\", 5)\n",
        "Europe.add_edge(\"Stockholm\", \"Oslo\", 2)\n",
        "Europe.add_edge(\"Londres\", \"Edimbourg\", 2)\n",
        "Europe.add_edge(\"Amsterdam\", \"Londres\", 1)\n",
        "Europe.add_edge(\"Edimbourg\", \"Amsterdam\", 3)\n",
        "Europe.add_edge(\"Edimbourg\", \"Rana\", 6)\n",
        "Europe.add_edge(\"Edimbourg\", \"Oslo\", 7)\n",
        "Europe.add_edge(\"Amsterdam\", \"Oslo\", 8)\n",
        "Europe.add_edge(\"Oslo\", \"Rana\", 2)\n",
        "# adicione as outras arestas"
      ]
    },
    {
      "cell_type": "markdown",
      "metadata": {
        "id": "D46uW9_Q1yoG"
      },
      "source": [
        "Sua tarefa agora é implementar o algoritmo de Dijkstra para encontrar o menor caminho entre Paris e Rana. Considere que queremos saber o custo do caminho, e também as cidades por ele onde passa."
      ]
    },
    {
      "cell_type": "code",
      "execution_count": 82,
      "metadata": {
        "id": "muB7Vq_w1yoG"
      },
      "outputs": [],
      "source": [
        "# Find the shortest path from Paris to Rana using Dijkstra's algorithm\n",
        "from heapq import heappush, heappop\n",
        "\n",
        "def dijkstra(graph, start):\n",
        "    # Initialize the distance of all vertices to infinity\n",
        "    dist = {vertex: float(\"inf\") for vertex in graph}\n",
        "    predecessor = {vertex: None for vertex in graph}\n",
        "    visited = {vertex: False for vertex in graph}\n",
        "    dist[start] = 0  # Distance from start to start is 0\n",
        "\n",
        "    # Initialize the priority queue with the start vertex\n",
        "    pq = [(0, start)]  # (distance, vertex)\n",
        "\n",
        "    while pq:\n",
        "        node_dist, node = heappop(pq)\n",
        "        if (dist[node] < node_dist or visited[node]):\n",
        "          continue\n",
        "        visited[node] = True\n",
        "        for child in Europe.graph[node]:\n",
        "          child_node = child.v\n",
        "          new_dist = node_dist+child.w\n",
        "          if (new_dist < dist[child_node]):\n",
        "            dist[child_node] = new_dist\n",
        "            predecessor[child_node] = node\n",
        "            heappush(pq, (dist[child_node], child_node))\n",
        "\n",
        "    return dist, predecessor"
      ]
    },
    {
      "cell_type": "code",
      "execution_count": 83,
      "metadata": {
        "id": "XdhspryS1yoH"
      },
      "outputs": [],
      "source": [
        "# test Dijkstra's algorithm\n",
        "distances, predecessor = dijkstra(Europe.graph, \"Paris\")"
      ]
    },
    {
      "cell_type": "code",
      "execution_count": 84,
      "metadata": {
        "id": "GODY_WIP1yoH",
        "outputId": "5b713945-bf21-41cf-e820-8847391dcfae",
        "colab": {
          "base_uri": "https://localhost:8080/"
        }
      },
      "outputs": [
        {
          "output_type": "execute_result",
          "data": {
            "text/plain": [
              "{'Paris': 0,\n",
              " 'Hambourg': 5,\n",
              " 'Amsterdam': 3,\n",
              " 'Londres': 4,\n",
              " 'Berlim': 6,\n",
              " 'Stockholm': 6,\n",
              " 'Oslo': 8,\n",
              " 'Rana': 10,\n",
              " 'Edimbourg': 6}"
            ]
          },
          "metadata": {},
          "execution_count": 84
        }
      ],
      "source": [
        "distances"
      ]
    },
    {
      "cell_type": "code",
      "execution_count": 85,
      "metadata": {
        "id": "WMxWq2WE1yoH"
      },
      "outputs": [],
      "source": [
        "def reconstruct_path(predecessor, start, end):\n",
        "    \"\"\"Reconstrói o caminho do vértice start até end.\"\"\"\n",
        "    path = []\n",
        "    current = end\n",
        "    while current is not None:\n",
        "        path.append(current)\n",
        "        current = predecessor[current]\n",
        "    path.reverse()  # Inverte para obter na ordem correta\n",
        "    return path if path[0] == start else []  # Retorna caminho válido ou vazio"
      ]
    },
    {
      "cell_type": "code",
      "execution_count": 86,
      "metadata": {
        "id": "7V7Ort0O1yoI",
        "outputId": "81e6ab54-7a97-4a43-a697-56160171a1c3",
        "colab": {
          "base_uri": "https://localhost:8080/"
        }
      },
      "outputs": [
        {
          "output_type": "execute_result",
          "data": {
            "text/plain": [
              "['Paris', 'Amsterdam', 'Hambourg', 'Stockholm', 'Oslo', 'Rana']"
            ]
          },
          "metadata": {},
          "execution_count": 86
        }
      ],
      "source": [
        "# Testa o algoritmo de Dijkstra\n",
        "path = reconstruct_path(predecessor, \"Paris\", \"Rana\")\n",
        "path"
      ]
    }
  ],
  "metadata": {
    "kernelspec": {
      "display_name": "Python 3 (ipykernel)",
      "language": "python",
      "name": "python3"
    },
    "language_info": {
      "codemirror_mode": {
        "name": "ipython",
        "version": 3
      },
      "file_extension": ".py",
      "mimetype": "text/x-python",
      "name": "python",
      "nbconvert_exporter": "python",
      "pygments_lexer": "ipython3",
      "version": "3.12.2"
    },
    "colab": {
      "provenance": []
    }
  },
  "nbformat": 4,
  "nbformat_minor": 0
}